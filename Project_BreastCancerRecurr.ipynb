{
 "cells": [
  {
   "cell_type": "markdown",
   "metadata": {},
   "source": [
    "# Classifying patients into \"Breast Cancer recurrence/no-recurrence events\""
   ]
  },
  {
   "cell_type": "code",
   "execution_count": 1,
   "metadata": {},
   "outputs": [],
   "source": [
    "# Import all required libraries\n",
    "import pandas as pd , numpy as np , matplotlib.pyplot as plt , seaborn as sns\n",
    "from sklearn.model_selection import train_test_split\n",
    "from sklearn.tree import DecisionTreeClassifier\n",
    "from sklearn.metrics import confusion_matrix , classification_report , accuracy_score , precision_score , precision_recall_fscore_support\n",
    "from sklearn.ensemble import RandomForestClassifier\n",
    "from sklearn.neighbors import KNeighborsClassifier\n",
    "from sklearn.svm import SVC\n",
    "from sklearn.naive_bayes import GaussianNB\n",
    "from sklearn.linear_model import LogisticRegression\n",
    "from sklearn.ensemble import  BaggingClassifier , AdaBoostClassifier ,VotingClassifier\n",
    "from sklearn.tree import DecisionTreeClassifier\n",
    "from sklearn.svm import SVC\n",
    "%matplotlib inline"
   ]
  },
  {
   "cell_type": "code",
   "execution_count": 3,
   "metadata": {},
   "outputs": [
    {
     "data": {
      "text/html": [
       "<div>\n",
       "<style scoped>\n",
       "    .dataframe tbody tr th:only-of-type {\n",
       "        vertical-align: middle;\n",
       "    }\n",
       "\n",
       "    .dataframe tbody tr th {\n",
       "        vertical-align: top;\n",
       "    }\n",
       "\n",
       "    .dataframe thead th {\n",
       "        text-align: right;\n",
       "    }\n",
       "</style>\n",
       "<table border=\"1\" class=\"dataframe\">\n",
       "  <thead>\n",
       "    <tr style=\"text-align: right;\">\n",
       "      <th></th>\n",
       "      <th>age</th>\n",
       "      <th>menopause</th>\n",
       "      <th>tumor-size</th>\n",
       "      <th>inv-nodes</th>\n",
       "      <th>node-caps</th>\n",
       "      <th>deg-malig</th>\n",
       "      <th>breast</th>\n",
       "      <th>breast-quad</th>\n",
       "      <th>irradiat</th>\n",
       "      <th>Class</th>\n",
       "    </tr>\n",
       "  </thead>\n",
       "  <tbody>\n",
       "    <tr>\n",
       "      <td>0</td>\n",
       "      <td>40-49</td>\n",
       "      <td>premeno</td>\n",
       "      <td>15-19</td>\n",
       "      <td>0-2</td>\n",
       "      <td>yes</td>\n",
       "      <td>3</td>\n",
       "      <td>right</td>\n",
       "      <td>left_up</td>\n",
       "      <td>no</td>\n",
       "      <td>recurrence-events</td>\n",
       "    </tr>\n",
       "    <tr>\n",
       "      <td>1</td>\n",
       "      <td>50-59</td>\n",
       "      <td>ge40</td>\n",
       "      <td>15-19</td>\n",
       "      <td>0-2</td>\n",
       "      <td>no</td>\n",
       "      <td>1</td>\n",
       "      <td>right</td>\n",
       "      <td>central</td>\n",
       "      <td>no</td>\n",
       "      <td>no-recurrence-events</td>\n",
       "    </tr>\n",
       "    <tr>\n",
       "      <td>2</td>\n",
       "      <td>50-59</td>\n",
       "      <td>ge40</td>\n",
       "      <td>35-39</td>\n",
       "      <td>0-2</td>\n",
       "      <td>no</td>\n",
       "      <td>2</td>\n",
       "      <td>left</td>\n",
       "      <td>left_low</td>\n",
       "      <td>no</td>\n",
       "      <td>recurrence-events</td>\n",
       "    </tr>\n",
       "    <tr>\n",
       "      <td>3</td>\n",
       "      <td>40-49</td>\n",
       "      <td>premeno</td>\n",
       "      <td>35-39</td>\n",
       "      <td>0-2</td>\n",
       "      <td>yes</td>\n",
       "      <td>3</td>\n",
       "      <td>right</td>\n",
       "      <td>left_low</td>\n",
       "      <td>yes</td>\n",
       "      <td>no-recurrence-events</td>\n",
       "    </tr>\n",
       "    <tr>\n",
       "      <td>4</td>\n",
       "      <td>40-49</td>\n",
       "      <td>premeno</td>\n",
       "      <td>30-34</td>\n",
       "      <td>3-5</td>\n",
       "      <td>yes</td>\n",
       "      <td>2</td>\n",
       "      <td>left</td>\n",
       "      <td>right_up</td>\n",
       "      <td>no</td>\n",
       "      <td>recurrence-events</td>\n",
       "    </tr>\n",
       "  </tbody>\n",
       "</table>\n",
       "</div>"
      ],
      "text/plain": [
       "     age menopause tumor-size inv-nodes node-caps  deg-malig breast  \\\n",
       "0  40-49   premeno      15-19       0-2       yes          3  right   \n",
       "1  50-59      ge40      15-19       0-2        no          1  right   \n",
       "2  50-59      ge40      35-39       0-2        no          2   left   \n",
       "3  40-49   premeno      35-39       0-2       yes          3  right   \n",
       "4  40-49   premeno      30-34       3-5       yes          2   left   \n",
       "\n",
       "  breast-quad irradiat                 Class  \n",
       "0     left_up       no     recurrence-events  \n",
       "1     central       no  no-recurrence-events  \n",
       "2    left_low       no     recurrence-events  \n",
       "3    left_low      yes  no-recurrence-events  \n",
       "4    right_up       no     recurrence-events  "
      ]
     },
     "execution_count": 3,
     "metadata": {},
     "output_type": "execute_result"
    }
   ],
   "source": [
    "# Import the dataset\n",
    "data = pd.read_csv('breast-cancer_csv.csv')\n",
    "# Print head of the  dataframe\n",
    "data.head()"
   ]
  },
  {
   "cell_type": "code",
   "execution_count": 14,
   "metadata": {},
   "outputs": [],
   "source": [
    "# created data preprocessing template\n",
    "def preprocessing(df):\n",
    "    # filling missing data\n",
    "    df = df.fillna(method='ffill')\n",
    "    # taking mean of ranges\n",
    "    Age = pd.Series([np.mean(np.array(range(int(i.split('-')[0]),int(i.split('-')[1])+1))) for i in df['age']])\n",
    "    Tumor_size =  pd.Series([np.mean(np.array(range(int(i.split('-')[0]),int(i.split('-')[1])+1))) for i in df['tumor-size']])\n",
    "    Inv_nodes = pd.Series([np.mean(np.array(range(int(i.split('-')[0]),int(i.split('-')[1])+1))) for i in df['inv-nodes']])\n",
    "    #creating a dummy varibles\n",
    "    nc = pd.get_dummies(df['node-caps'] ,  drop_first= True)\n",
    "    bre = pd.get_dummies(df['breast'],drop_first=True)\n",
    "    irr = pd.get_dummies(df['irradiat'], drop_first=True)\n",
    "    cls = pd.get_dummies(df['Class'] , drop_first=True)\n",
    "    # Dropping unnecessary and concatinating new columns into old data\n",
    "    df=df.drop(['age','menopause' , 'tumor-size' ,'inv-nodes','node-caps','breast','breast-quad','irradiat','Class'] ,axis = 1)\n",
    "    df =pd.concat([Age,Tumor_size , Inv_nodes,nc,data['deg-malig'],bre, irr, cls] , axis  = 1)\n",
    "    # Rename columns\n",
    "    df.columns = ['Age', 'Tumor-Size', 'inv-nodes', 'Node-cap(yes)','deg-malig', 'breast(right)', 'Irradiate', 'Class']\n",
    "    return (df)\n",
    "# Passing the data through the function\n",
    "df = preprocessing(data)\n",
    "# create a Evaluation Dataframe\n",
    "Eval_table = pd.DataFrame({'Model': [],\n",
    "                          'Accuracy':[],\n",
    "                           'Precision':[]})"
   ]
  },
  {
   "cell_type": "code",
   "execution_count": 5,
   "metadata": {},
   "outputs": [
    {
     "data": {
      "text/html": [
       "<div>\n",
       "<style scoped>\n",
       "    .dataframe tbody tr th:only-of-type {\n",
       "        vertical-align: middle;\n",
       "    }\n",
       "\n",
       "    .dataframe tbody tr th {\n",
       "        vertical-align: top;\n",
       "    }\n",
       "\n",
       "    .dataframe thead th {\n",
       "        text-align: right;\n",
       "    }\n",
       "</style>\n",
       "<table border=\"1\" class=\"dataframe\">\n",
       "  <thead>\n",
       "    <tr style=\"text-align: right;\">\n",
       "      <th></th>\n",
       "      <th>Age</th>\n",
       "      <th>Tumor-Size</th>\n",
       "      <th>inv-nodes</th>\n",
       "      <th>Node-cap(yes)</th>\n",
       "      <th>deg-malig</th>\n",
       "      <th>breast(right)</th>\n",
       "      <th>Irradiate</th>\n",
       "      <th>Class</th>\n",
       "    </tr>\n",
       "  </thead>\n",
       "  <tbody>\n",
       "    <tr>\n",
       "      <td>0</td>\n",
       "      <td>44.5</td>\n",
       "      <td>17.0</td>\n",
       "      <td>1.0</td>\n",
       "      <td>1</td>\n",
       "      <td>3</td>\n",
       "      <td>1</td>\n",
       "      <td>0</td>\n",
       "      <td>1</td>\n",
       "    </tr>\n",
       "    <tr>\n",
       "      <td>1</td>\n",
       "      <td>54.5</td>\n",
       "      <td>17.0</td>\n",
       "      <td>1.0</td>\n",
       "      <td>0</td>\n",
       "      <td>1</td>\n",
       "      <td>1</td>\n",
       "      <td>0</td>\n",
       "      <td>0</td>\n",
       "    </tr>\n",
       "    <tr>\n",
       "      <td>2</td>\n",
       "      <td>54.5</td>\n",
       "      <td>37.0</td>\n",
       "      <td>1.0</td>\n",
       "      <td>0</td>\n",
       "      <td>2</td>\n",
       "      <td>0</td>\n",
       "      <td>0</td>\n",
       "      <td>1</td>\n",
       "    </tr>\n",
       "    <tr>\n",
       "      <td>3</td>\n",
       "      <td>44.5</td>\n",
       "      <td>37.0</td>\n",
       "      <td>1.0</td>\n",
       "      <td>1</td>\n",
       "      <td>3</td>\n",
       "      <td>1</td>\n",
       "      <td>1</td>\n",
       "      <td>0</td>\n",
       "    </tr>\n",
       "    <tr>\n",
       "      <td>4</td>\n",
       "      <td>44.5</td>\n",
       "      <td>32.0</td>\n",
       "      <td>4.0</td>\n",
       "      <td>1</td>\n",
       "      <td>2</td>\n",
       "      <td>0</td>\n",
       "      <td>0</td>\n",
       "      <td>1</td>\n",
       "    </tr>\n",
       "  </tbody>\n",
       "</table>\n",
       "</div>"
      ],
      "text/plain": [
       "    Age  Tumor-Size  inv-nodes  Node-cap(yes)  deg-malig  breast(right)  \\\n",
       "0  44.5        17.0        1.0              1          3              1   \n",
       "1  54.5        17.0        1.0              0          1              1   \n",
       "2  54.5        37.0        1.0              0          2              0   \n",
       "3  44.5        37.0        1.0              1          3              1   \n",
       "4  44.5        32.0        4.0              1          2              0   \n",
       "\n",
       "   Irradiate  Class  \n",
       "0          0      1  \n",
       "1          0      0  \n",
       "2          0      1  \n",
       "3          1      0  \n",
       "4          0      1  "
      ]
     },
     "execution_count": 5,
     "metadata": {},
     "output_type": "execute_result"
    }
   ],
   "source": [
    "# Print preprocessed dataframe\n",
    "df.head()"
   ]
  },
  {
   "cell_type": "code",
   "execution_count": 8,
   "metadata": {},
   "outputs": [
    {
     "data": {
      "text/plain": [
       "<matplotlib.axes._subplots.AxesSubplot at 0x2b2857ea448>"
      ]
     },
     "execution_count": 8,
     "metadata": {},
     "output_type": "execute_result"
    },
    {
     "data": {
      "image/png": "[encoded data removed]",
      "text/plain": [
       "<Figure size 432x288 with 1 Axes>"
      ]
     },
     "metadata": {
      "needs_background": "light"
     },
     "output_type": "display_data"
    }
   ],
   "source": [
    "# Data analysis\n",
    "# The lymph node capsule(ovoid shaped , around 450 in adults)\n",
    "#when metastasise to a lymph node,lymph nodes may get replaced by the tumor and then penetrate the capsule,allowing it to invade the surrounding tissues cancer become aggressive ,lymph nodes may get replaced by the tumor and then penetrate the capsule,allowing it to invade the surrounding tissues \n",
    "sns.countplot(x = 'Node-cap(yes)' , hue= 'Age' , data = df)\n"
   ]
  },
  {
   "cell_type": "code",
   "execution_count": 9,
   "metadata": {},
   "outputs": [
    {
     "data": {
      "text/plain": [
       "<matplotlib.axes._subplots.AxesSubplot at 0x2b2858a3f88>"
      ]
     },
     "execution_count": 9,
     "metadata": {},
     "output_type": "execute_result"
    },
    {
     "data": {
      "image/png": "[encoded data removed]",
      "text/plain": [
       "<Figure size 432x288 with 1 Axes>"
      ]
     },
     "metadata": {
      "needs_background": "light"
     },
     "output_type": "display_data"
    }
   ],
   "source": [
    "sns.countplot(x = 'inv-nodes' , hue= 'Age' , data = df )"
   ]
  },
  {
   "cell_type": "code",
   "execution_count": 10,
   "metadata": {},
   "outputs": [
    {
     "data": {
      "text/plain": [
       "<matplotlib.axes._subplots.AxesSubplot at 0x2b285a0ab08>"
      ]
     },
     "execution_count": 10,
     "metadata": {},
     "output_type": "execute_result"
    },
    {
     "data": {
      "image/png": "[encoded data removed]",
      "text/plain": [
       "<Figure size 432x288 with 1 Axes>"
      ]
     },
     "metadata": {
      "needs_background": "light"
     },
     "output_type": "display_data"
    }
   ],
   "source": [
    "sns.countplot(x = 'breast-quad' , hue= 'age' , data = data)\n",
    "# here we can see central , right_up , right_low are very much smaller compared to left_up , left_low\n",
    "# here location do not play a big role in predicting hence we can eliminate it"
   ]
  },
  {
   "cell_type": "code",
   "execution_count": 13,
   "metadata": {},
   "outputs": [],
   "source": [
    "# Defining dependent and independent variables\n",
    "x = df.iloc[: , :-1].values\n",
    "y = df.iloc[:, -1].values\n",
    "# Splitting data into train test and split\n",
    "x_train , x_test , y_train , y_test  = train_test_split(x,y, test_size = 0.30 , random_state =0)"
   ]
  },
  {
   "cell_type": "markdown",
   "metadata": {},
   "source": [
    "### Decision Tree Classifier"
   ]
  },
  {
   "cell_type": "code",
   "execution_count": 17,
   "metadata": {},
   "outputs": [],
   "source": [
    "# create an object of  the classifier\n",
    "dt_classifier = DecisionTreeClassifier( criterion= 'entropy' , random_state= 101)\n",
    "# fit the data into model\n",
    "dt_classifier.fit(x_train , y_train)\n",
    "# Predict on test result\n",
    "dt_predictions = dt_classifier.predict(x_test)\n",
    "acc_dt = accuracy_score(y_test , dt_predictions)\n",
    "prc_dt = precision_score(y_test ,dt_predictions)\n",
    "# Updating result to the evaluation table\n",
    "loc1 = Eval_table.shape[0]\n",
    "Eval_table.loc[loc1] = ['Decision Tree Classification' , acc_dt,prc_dt]"
   ]
  },
  {
   "cell_type": "markdown",
   "metadata": {},
   "source": [
    "### Random Forest Classifier"
   ]
  },
  {
   "cell_type": "code",
   "execution_count": 19,
   "metadata": {},
   "outputs": [],
   "source": [
    "rf_classifier   = RandomForestClassifier(n_estimators= 300 , criterion='entropy' , random_state= 0)\n",
    "rf_classifier.fit(x_train , y_train)\n",
    "rf_predictions=rf_classifier.predict(x_test)\n",
    "rf_acc = accuracy_score(y_test , rf_predictions)\n",
    "rf_prc = precision_score(y_test , rf_predictions)\n",
    "loc1 = Eval_table.shape[0]\n",
    "Eval_table.loc[loc1] = ['Random Forest Classifier' , rf_acc,rf_prc]"
   ]
  },
  {
   "cell_type": "markdown",
   "metadata": {},
   "source": [
    "### K-nearest neighbour"
   ]
  },
  {
   "cell_type": "code",
   "execution_count": 20,
   "metadata": {},
   "outputs": [],
   "source": [
    "knn = KNeighborsClassifier(n_neighbors= 5 , p = 2 , metric='minkowski'  )\n",
    "knn.fit(x_train , y_train)\n",
    "knn_predictions = knn.predict(x_test)\n",
    "acc_knn = accuracy_score(y_test,knn_predictions)\n",
    "prc_knn =precision_score(y_test , knn_predictions)\n",
    "loc1 = Eval_table.shape[0]\n",
    "Eval_table.loc[loc1] = ['K-nearest neighbour' , acc_knn,prc_knn]"
   ]
  },
  {
   "cell_type": "markdown",
   "metadata": {},
   "source": [
    "### Support Vector Machine"
   ]
  },
  {
   "cell_type": "code",
   "execution_count": 21,
   "metadata": {},
   "outputs": [],
   "source": [
    "svm = SVC( kernel='linear' , random_state = 101)\n",
    "svm.fit(x_train , y_train)\n",
    "svm_predictions = svm.predict(x_test)\n",
    "a_svm=accuracy_score(y_test,svm_predictions)\n",
    "p_svm = precision_score(y_test , svm_predictions)\n",
    "loc1 = Eval_table.shape[0]\n",
    "Eval_table.loc[loc1] = ['SVM' , a_svm,p_svm]"
   ]
  },
  {
   "cell_type": "markdown",
   "metadata": {},
   "source": [
    "### Logistic Regression"
   ]
  },
  {
   "cell_type": "code",
   "execution_count": 23,
   "metadata": {},
   "outputs": [
    {
     "name": "stderr",
     "output_type": "stream",
     "text": [
      "C:\\Users\\Sony\\Anaconda3\\lib\\site-packages\\sklearn\\linear_model\\logistic.py:432: FutureWarning: Default solver will be changed to 'lbfgs' in 0.22. Specify a solver to silence this warning.\n",
      "  FutureWarning)\n"
     ]
    }
   ],
   "source": [
    "lr = LogisticRegression()\n",
    "lr.fit(x_train , y_train)\n",
    "lr_predictions = lr.predict(x_test)\n",
    "lr_a = accuracy_score(y_test,lr_predictions)\n",
    "lr_p = precision_score(y_test , lr_predictions)\n",
    "loc1 = Eval_table.shape[0]\n",
    "Eval_table.loc[loc1] = ['Logistic Regression' , a_svm,p_svm]"
   ]
  },
  {
   "cell_type": "markdown",
   "metadata": {},
   "source": [
    "### Navie Bayes Classifier"
   ]
  },
  {
   "cell_type": "code",
   "execution_count": 24,
   "metadata": {},
   "outputs": [],
   "source": [
    "nb= GaussianNB()\n",
    "nb.fit(x_train , y_train)\n",
    "nb_classifier = nb.predict(x_test)\n",
    "nb_a = accuracy_score(y_test  , nb_classifier)\n",
    "nb_p = precision_score(y_test , nb_classifier)\n",
    "loc1 = Eval_table.shape[0]\n",
    "Eval_table.loc[loc1] = ['Navie Bayes' , nb_a,nb_p]"
   ]
  },
  {
   "cell_type": "markdown",
   "metadata": {},
   "source": [
    "### Ensembled LR"
   ]
  },
  {
   "cell_type": "code",
   "execution_count": 25,
   "metadata": {},
   "outputs": [
    {
     "name": "stderr",
     "output_type": "stream",
     "text": [
      "C:\\Users\\Sony\\Anaconda3\\lib\\site-packages\\sklearn\\linear_model\\logistic.py:432: FutureWarning: Default solver will be changed to 'lbfgs' in 0.22. Specify a solver to silence this warning.\n",
      "  FutureWarning)\n",
      "C:\\Users\\Sony\\Anaconda3\\lib\\site-packages\\sklearn\\linear_model\\logistic.py:432: FutureWarning: Default solver will be changed to 'lbfgs' in 0.22. Specify a solver to silence this warning.\n",
      "  FutureWarning)\n",
      "C:\\Users\\Sony\\Anaconda3\\lib\\site-packages\\sklearn\\linear_model\\logistic.py:432: FutureWarning: Default solver will be changed to 'lbfgs' in 0.22. Specify a solver to silence this warning.\n",
      "  FutureWarning)\n",
      "C:\\Users\\Sony\\Anaconda3\\lib\\site-packages\\sklearn\\linear_model\\logistic.py:432: FutureWarning: Default solver will be changed to 'lbfgs' in 0.22. Specify a solver to silence this warning.\n",
      "  FutureWarning)\n",
      "C:\\Users\\Sony\\Anaconda3\\lib\\site-packages\\sklearn\\linear_model\\logistic.py:432: FutureWarning: Default solver will be changed to 'lbfgs' in 0.22. Specify a solver to silence this warning.\n",
      "  FutureWarning)\n"
     ]
    }
   ],
   "source": [
    "bag= BaggingClassifier(LogisticRegression(), max_samples= 0.5, max_features = 1.0, n_estimators = 5)\n",
    "bag.fit(x_train,y_train)\n",
    "bag_pred = bag.predict(x_test)\n",
    "ea = accuracy_score(y_test , bag_pred)\n",
    "ep = precision_score(y_test,bag_pred)\n",
    "loc1 = Eval_table.shape[0]\n",
    "Eval_table.loc[loc1] = ['E-LR' , ea,ep]"
   ]
  },
  {
   "cell_type": "code",
   "execution_count": 26,
   "metadata": {},
   "outputs": [
    {
     "data": {
      "text/html": [
       "<div>\n",
       "<style scoped>\n",
       "    .dataframe tbody tr th:only-of-type {\n",
       "        vertical-align: middle;\n",
       "    }\n",
       "\n",
       "    .dataframe tbody tr th {\n",
       "        vertical-align: top;\n",
       "    }\n",
       "\n",
       "    .dataframe thead th {\n",
       "        text-align: right;\n",
       "    }\n",
       "</style>\n",
       "<table border=\"1\" class=\"dataframe\">\n",
       "  <thead>\n",
       "    <tr style=\"text-align: right;\">\n",
       "      <th></th>\n",
       "      <th>Model</th>\n",
       "      <th>Accuracy</th>\n",
       "      <th>Precision</th>\n",
       "    </tr>\n",
       "  </thead>\n",
       "  <tbody>\n",
       "    <tr>\n",
       "      <td>0</td>\n",
       "      <td>Decision Tree Classification</td>\n",
       "      <td>0.686047</td>\n",
       "      <td>0.608696</td>\n",
       "    </tr>\n",
       "    <tr>\n",
       "      <td>1</td>\n",
       "      <td>Random Forest Classifier</td>\n",
       "      <td>0.674419</td>\n",
       "      <td>0.590909</td>\n",
       "    </tr>\n",
       "    <tr>\n",
       "      <td>2</td>\n",
       "      <td>K-nearest neighbour</td>\n",
       "      <td>0.639535</td>\n",
       "      <td>0.571429</td>\n",
       "    </tr>\n",
       "    <tr>\n",
       "      <td>3</td>\n",
       "      <td>SVM</td>\n",
       "      <td>0.651163</td>\n",
       "      <td>0.750000</td>\n",
       "    </tr>\n",
       "    <tr>\n",
       "      <td>4</td>\n",
       "      <td>Logistic Regression</td>\n",
       "      <td>0.651163</td>\n",
       "      <td>0.750000</td>\n",
       "    </tr>\n",
       "    <tr>\n",
       "      <td>5</td>\n",
       "      <td>Navie Bayes</td>\n",
       "      <td>0.720930</td>\n",
       "      <td>0.750000</td>\n",
       "    </tr>\n",
       "    <tr>\n",
       "      <td>6</td>\n",
       "      <td>E-LR</td>\n",
       "      <td>0.709302</td>\n",
       "      <td>0.733333</td>\n",
       "    </tr>\n",
       "  </tbody>\n",
       "</table>\n",
       "</div>"
      ],
      "text/plain": [
       "                          Model  Accuracy  Precision\n",
       "0  Decision Tree Classification  0.686047   0.608696\n",
       "1      Random Forest Classifier  0.674419   0.590909\n",
       "2           K-nearest neighbour  0.639535   0.571429\n",
       "3                           SVM  0.651163   0.750000\n",
       "4           Logistic Regression  0.651163   0.750000\n",
       "5                   Navie Bayes  0.720930   0.750000\n",
       "6                          E-LR  0.709302   0.733333"
      ]
     },
     "execution_count": 26,
     "metadata": {},
     "output_type": "execute_result"
    }
   ],
   "source": [
    "Eval_table"
   ]
  },
  {
   "cell_type": "code",
   "execution_count": null,
   "metadata": {},
   "outputs": [],
   "source": []
  }
 ],
 "metadata": {
  "kernelspec": {
   "display_name": "Python 3",
   "language": "python",
   "name": "python3"
  },
  "language_info": {
   "codemirror_mode": {
    "name": "ipython",
    "version": 3
   },
   "file_extension": ".py",
   "mimetype": "text/x-python",
   "name": "python",
   "nbconvert_exporter": "python",
   "pygments_lexer": "ipython3",
   "version": "3.7.4"
  }
 },
 "nbformat": 4,
 "nbformat_minor": 2
}
